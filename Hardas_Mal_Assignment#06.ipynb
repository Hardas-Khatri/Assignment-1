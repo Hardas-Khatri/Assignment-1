{
 "cells": [
  {
   "cell_type": "code",
   "execution_count": 1,
   "metadata": {},
   "outputs": [
    {
     "name": "stdout",
     "output_type": "stream",
     "text": [
      "<__main__.Car object at 0x000002556F5F4898>\n",
      "<__main__.Car object at 0x000002556F5F48D0>\n",
      "<__main__.Car object at 0x000002556F5F4940>\n",
      "<__main__.Car object at 0x000002556F5F4908>\n",
      "<__main__.Car object at 0x000002556F5F4978>\n"
     ]
    }
   ],
   "source": [
    "# The class declared by name Car\n",
    "class Car:\n",
    "    pass\n",
    "# five object of the class such as color, model, name, company and year. \n",
    "color = Car()\n",
    "model = Car()\n",
    "name = Car()\n",
    "company = Car()\n",
    "year = Car()\n",
    "# print statements are used to check the object are created or not \n",
    "print(color)\n",
    "print(model)\n",
    "print(name)\n",
    "print(company)\n",
    "print(year)\n",
    "# at below if you see there are five object of the class has been created at their memory locations"
   ]
  },
  {
   "cell_type": "code",
   "execution_count": 11,
   "metadata": {},
   "outputs": [
    {
     "name": "stdout",
     "output_type": "stream",
     "text": [
      "red\n",
      "green\n",
      "blue\n",
      "\n",
      "\n",
      "gli\n",
      "xli\n",
      "vxr\n",
      "\n",
      "\n",
      "corola\n",
      "mehran\n",
      "cultus\n",
      "\n",
      "\n",
      "toyota\n",
      "pejaro\n",
      "hilux\n",
      "\n",
      "\n",
      "2018\n",
      "2019\n",
      "2020\n",
      "<built-in method format of str object at 0x000002556F6889F0>\n"
     ]
    }
   ],
   "source": [
    "class Car:\n",
    "    # methode declared in which three instances call by itself\n",
    "    def __init__(self, verifiedLicence, unverifiedLicence, noLicence):\n",
    "        self.verifiedLicence = verifiedLicence # instance\n",
    "        self.unverifiedLicence = unverifiedLicence # instance\n",
    "        self.noLicence = noLicence # instance\n",
    "color = Car('red','green','blue')\n",
    "model = Car('gli','xli','vxr')\n",
    "name = Car('corola','mehran','cultus')\n",
    "company = Car('toyota','pejaro','hilux')\n",
    "year = Car(2018,2019,2020)\n",
    "print(color.verifiedLicence)\n",
    "print(color.unverifiedLicence)\n",
    "print(color.noLicence)\n",
    "print('\\n')\n",
    "print(model.verifiedLicence)\n",
    "print(model.unverifiedLicence)\n",
    "print(model.noLicence)\n",
    "print('\\n')\n",
    "print(name.verifiedLicence)\n",
    "print(name.unverifiedLicence)\n",
    "print(name.noLicence)\n",
    "print('\\n')\n",
    "print(company.verifiedLicence)\n",
    "print(company.unverifiedLicence)\n",
    "print(company.noLicence)\n",
    "print('\\n')\n",
    "print(year.verifiedLicence)\n",
    "print(year.unverifiedLicence)\n",
    "print(year.noLicence)\n",
    "\n",
    "print('{} {} {}'.format) # printing output of the whole program"
   ]
  },
  {
   "cell_type": "code",
   "execution_count": null,
   "metadata": {},
   "outputs": [],
   "source": []
  }
 ],
 "metadata": {
  "kernelspec": {
   "display_name": "Python 3",
   "language": "python",
   "name": "python3"
  },
  "language_info": {
   "codemirror_mode": {
    "name": "ipython",
    "version": 3
   },
   "file_extension": ".py",
   "mimetype": "text/x-python",
   "name": "python",
   "nbconvert_exporter": "python",
   "pygments_lexer": "ipython3",
   "version": "3.7.3"
  }
 },
 "nbformat": 4,
 "nbformat_minor": 2
}
