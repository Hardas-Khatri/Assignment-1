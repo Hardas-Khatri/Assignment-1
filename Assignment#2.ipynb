{
 "cells": [
  {
   "cell_type": "code",
   "execution_count": 2,
   "metadata": {},
   "outputs": [
    {
     "name": "stdout",
     "output_type": "stream",
     "text": [
      "Enter a number: 3\n",
      "3 is Odd\n"
     ]
    }
   ],
   "source": [
    "num = int(input(\"Enter a number: \"))\n",
    "if (num % 2) == 0:\n",
    "   print(\"{0} is Even\".format(num))\n",
    "else:\n",
    "   print(\"{0} is Odd\".format(num))"
   ]
  },
  {
   "cell_type": "code",
   "execution_count": 16,
   "metadata": {},
   "outputs": [
    {
     "name": "stdout",
     "output_type": "stream",
     "text": [
      "Enter marks of the first subject: 80\n",
      "Enter marks of the second subject: 80\n",
      "Enter marks of the third subject: 80\n",
      "Enter marks of the fourth subject: 80\n",
      "Enter marks of the fifth subject: 80\n",
      "Grade: B\n"
     ]
    }
   ],
   "source": [
    "course1=int(input(\"Enter marks of the first subject: \"))\n",
    "course2=int(input(\"Enter marks of the second subject: \"))\n",
    "course3=int(input(\"Enter marks of the third subject: \"))\n",
    "course4=int(input(\"Enter marks of the fourth subject: \"))\n",
    "course5=int(input(\"Enter marks of the fifth subject: \"))\n",
    "average=(course1+course2+course3+course4+course5)/5\n",
    "if(average>=90):\n",
    "    print(\"Grade: A\")\n",
    "elif(average>=80 and average<90):\n",
    "    print(\"Grade: B\")\n",
    "elif(average>=70 and average<80):\n",
    "    print(\"Grade: C\")\n",
    "elif(average>=60 and average<70):\n",
    "    print(\"Grade: D\")\n",
    "else:\n",
    "    print(\"Grade: F\")"
   ]
  },
  {
   "cell_type": "code",
   "execution_count": 17,
   "metadata": {},
   "outputs": [
    {
     "name": "stdout",
     "output_type": "stream",
     "text": [
      "length of the list is:  3\n"
     ]
    }
   ],
   "source": [
    "array_is = len([10, 20, 30]) \n",
    "print(\"length of the list is: \", array_is)"
   ]
  },
  {
   "cell_type": "code",
   "execution_count": 22,
   "metadata": {},
   "outputs": [
    {
     "name": "stdout",
     "output_type": "stream",
     "text": [
      "50\n"
     ]
    }
   ],
   "source": [
    "list = [5,10,15,20]\n",
    "new = sum(list) \n",
    "print(new)"
   ]
  },
  {
   "cell_type": "code",
   "execution_count": 29,
   "metadata": {},
   "outputs": [
    {
     "name": "stdout",
     "output_type": "stream",
     "text": [
      "Largest element is: 99\n"
     ]
    }
   ],
   "source": [
    "list_forMax = [10, 20, 4, 45, 99]\n",
    "larger = max(list_forMax)\n",
    "print(\"Largest element is:\", larger)"
   ]
  },
  {
   "cell_type": "code",
   "execution_count": 7,
   "metadata": {},
   "outputs": [
    {
     "name": "stdout",
     "output_type": "stream",
     "text": [
      "Less then five are:  [1, 1, 2, 3]\n"
     ]
    }
   ],
   "source": [
    "a = [1, 1, 2, 3, 5, 8, 13, 21, 34, 55, 89]\n",
    "less_thenFive=[i for i in a if i <5]\n",
    "print(\"Less then five are: \",less_thenFive)"
   ]
  },
  {
   "cell_type": "code",
   "execution_count": null,
   "metadata": {},
   "outputs": [],
   "source": []
  }
 ],
 "metadata": {
  "kernelspec": {
   "display_name": "Python 3",
   "language": "python",
   "name": "python3"
  },
  "language_info": {
   "codemirror_mode": {
    "name": "ipython",
    "version": 3
   },
   "file_extension": ".py",
   "mimetype": "text/x-python",
   "name": "python",
   "nbconvert_exporter": "python",
   "pygments_lexer": "ipython3",
   "version": "3.7.3"
  }
 },
 "nbformat": 4,
 "nbformat_minor": 2
}
