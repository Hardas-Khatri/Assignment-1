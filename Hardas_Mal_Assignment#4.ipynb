{
 "cells": [
  {
   "cell_type": "code",
   "execution_count": 8,
   "metadata": {},
   "outputs": [
    {
     "name": "stdout",
     "output_type": "stream",
     "text": [
      "Kuldeep\n",
      "Kumar\n",
      "22\n",
      "Umerkot\n",
      "{'first_name': 'Kuldeep', 'last_name': 'Kumar', 'age': 22, 'city': 'Umerkot', 'Qualification': 'intermediate'}\n",
      "{'first_name': 'Kuldeep', 'last_name': 'Kumar', 'age': 22, 'city': 'Umerkot', 'Qualification': 'intermediate', 'High Qualification': 'Gragduate'}\n"
     ]
    }
   ],
   "source": [
    "kuldeep = {\n",
    "    'first_name': 'Kuldeep',\n",
    "    'last_name': 'Kumar',\n",
    "    'age': 22,\n",
    "    'city': 'Umerkot',\n",
    "    }\n",
    "print(kuldeep['first_name'])\n",
    "print(kuldeep['last_name'])\n",
    "print(kuldeep['age'])\n",
    "print(kuldeep['city'])\n",
    "kuldeep[\"Qualification\"]='intermediate'\n",
    "print(kuldeep)\n",
    "kuldeep.update({'High Qualification' : 'Gragduate'})\n",
    "print(kuldeep)"
   ]
  },
  {
   "cell_type": "code",
   "execution_count": 10,
   "metadata": {},
   "outputs": [
    {
     "name": "stdout",
     "output_type": "stream",
     "text": [
      "\n",
      "Karachi is in Pakistan.\n",
      "  It has a population of about 25000000.\n",
      "  The K2 mountains are nearby.\n",
      "\n",
      "Islamabad is in Pakistan.\n",
      "  It has a population of about 600000.\n",
      "  The Margla mountains are nearby.\n",
      "\n",
      "Venus is in Italy.\n",
      "  It has a population of about 60000.\n",
      "  The No Mountain mountains are nearby.\n"
     ]
    }
   ],
   "source": [
    "shahar = {\n",
    "    'karachi': {\n",
    "        'country': 'Pakistan',\n",
    "        'population': 25000000,\n",
    "        'nearby mountains': 'K2',\n",
    "        },\n",
    "    'islamabad': {\n",
    "        'country': 'Pakistan',\n",
    "        'population': 600000,\n",
    "        'nearby mountains': 'Margla',\n",
    "        },\n",
    "    'Venus': {\n",
    "        'country': 'italy',\n",
    "        'population': 60000,\n",
    "        'nearby mountains': 'No mountain',\n",
    "        }\n",
    "    }\n",
    "\n",
    "for city, city_info in shahar.items():\n",
    "    country = city_info['country'].title()\n",
    "    population = city_info['population']\n",
    "    mountains = city_info['nearby mountains'].title()\n",
    "\n",
    "    print(\"\\n\" + city.title() + \" is in \" + country + \".\")\n",
    "    print(\"  It has a population of about \" + str(population) + \".\")\n",
    "    print(\"  The \" + mountains + \" mountains are nearby.\")"
   ]
  },
  {
   "cell_type": "code",
   "execution_count": 1,
   "metadata": {},
   "outputs": [
    {
     "name": "stdout",
     "output_type": "stream",
     "text": [
      "How many years you are old?\n",
      "Enter 'stop' when you are finished. 14\n",
      "  Your ticket is only for $15.\n",
      "How many years you are old?\n",
      "Enter 'stop' when you are finished. stop\n"
     ]
    }
   ],
   "source": [
    "prompt = \"How many years you are old?\"\n",
    "prompt += \"\\nEnter 'stop' when you are finished. \"\n",
    "\n",
    "while True:\n",
    "    old = input(prompt)\n",
    "    if old == 'stop':\n",
    "        break\n",
    "    old = int(old)\n",
    "\n",
    "    if old < 3:\n",
    "        print(\"  You get in free!\")\n",
    "    elif old < 13:\n",
    "        print(\"  Your ticket is only for $10.\")\n",
    "    else:\n",
    "        print(\"  Your ticket is only for $15.\")"
   ]
  },
  {
   "cell_type": "code",
   "execution_count": 2,
   "metadata": {},
   "outputs": [
    {
     "name": "stdout",
     "output_type": "stream",
     "text": [
      "The Abstract Wild is one of my favorite books.\n"
     ]
    }
   ],
   "source": [
    "def favorite_book(title):\n",
    "    \"\"\"Display a message about someone's favorite book.\"\"\"\n",
    "    print(title + \" is one of my favorite books.\")\n",
    "\n",
    "favorite_book('The Abstract Wild')"
   ]
  },
  {
   "cell_type": "code",
   "execution_count": null,
   "metadata": {},
   "outputs": [
    {
     "name": "stdout",
     "output_type": "stream",
     "text": [
      "Random number has been generated\n",
      "Your guess please: 31\n",
      "Try one more time, a bit lower\n",
      "Your guess please: 30\n",
      "Try one more time, a bit lower\n",
      "Your guess please: 21\n",
      "Try one more time, a bit higher\n",
      "Your guess please: 33\n",
      "Try one more time, a bit lower\n",
      "Your guess please: 35\n",
      "Try one more time, a bit lower\n",
      "Your guess please: 2\n",
      "Try one more time, a bit higher\n",
      "Your guess please: 1\n",
      "Try one more time, a bit higher\n",
      "Your guess please: 24\n",
      "Try one more time, a bit higher\n"
     ]
    }
   ],
   "source": [
    "import random\n",
    "randomNumber = random.randrange(1,30)\n",
    "print(\"Random number has been generated\")\n",
    "guessed = False\n",
    "while guessed==False:\n",
    "    userInput = int(input(\"Your guess please: \"))\n",
    "    if userInput==randomNumber:\n",
    "        guessed = True\n",
    "        print(\"Well done!\")\n",
    "    elif userInput>100:\n",
    "        print(\"Our guess range is between 1 and 30, please try a bit lower\")\n",
    "    elif userInput<0:\n",
    "        print(\"Our guess range is between 1 and 30, please try a bit higher\")\n",
    "    elif userInput>randomNumber:\n",
    "        print(\"Try one more time, a bit lower\")\n",
    "    elif userInput < randomNumber:\n",
    "        print(\"Try one more time, a bit higher\")\n",
    "\n",
    "print(\"End of program\")"
   ]
  },
  {
   "cell_type": "code",
   "execution_count": null,
   "metadata": {},
   "outputs": [],
   "source": []
  },
  {
   "cell_type": "code",
   "execution_count": null,
   "metadata": {},
   "outputs": [],
   "source": []
  }
 ],
 "metadata": {
  "kernelspec": {
   "display_name": "Python 3",
   "language": "python",
   "name": "python3"
  },
  "language_info": {
   "codemirror_mode": {
    "name": "ipython",
    "version": 3
   },
   "file_extension": ".py",
   "mimetype": "text/x-python",
   "name": "python",
   "nbconvert_exporter": "python",
   "pygments_lexer": "ipython3",
   "version": "3.7.3"
  }
 },
 "nbformat": 4,
 "nbformat_minor": 2
}
